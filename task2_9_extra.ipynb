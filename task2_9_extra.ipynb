{
  "nbformat": 4,
  "nbformat_minor": 0,
  "metadata": {
    "colab": {
      "provenance": [],
      "authorship_tag": "ABX9TyMmJ+JpNKTcXMnKaFQeJv1p",
      "include_colab_link": true
    },
    "kernelspec": {
      "name": "python3",
      "display_name": "Python 3"
    },
    "language_info": {
      "name": "python"
    }
  },
  "cells": [
    {
      "cell_type": "markdown",
      "metadata": {
        "id": "view-in-github",
        "colab_type": "text"
      },
      "source": [
        "<a href=\"https://colab.research.google.com/github/Pascar100/Pascar1/blob/main/task2_9_extra.ipynb\" target=\"_parent\"><img src=\"https://colab.research.google.com/assets/colab-badge.svg\" alt=\"Open In Colab\"/></a>"
      ]
    },
    {
      "cell_type": "code",
      "execution_count": null,
      "metadata": {
        "colab": {
          "base_uri": "https://localhost:8080/"
        },
        "id": "xRrwWzgXGBbG",
        "outputId": "5bc2d70a-6510-4d35-a755-e50f80df945c"
      },
      "outputs": [
        {
          "output_type": "stream",
          "name": "stdout",
          "text": [
            "Что вы хотели бы купить: кофе\n",
            "Ваша покупка 'кофе' будет выполнена\n"
          ]
        }
      ],
      "source": [
        "\n",
        "\n",
        "\n",
        "желание = input(\"Что вы хотели бы купить: \")\n",
        "\n",
        "print(f\"Ваша покупка '{желание}' будет выполнена\")"
      ]
    }
  ]
}